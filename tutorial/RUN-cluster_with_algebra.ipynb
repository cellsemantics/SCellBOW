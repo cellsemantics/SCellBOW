{
 "cells": [
  {
   "cell_type": "markdown",
   "id": "a5670408-2795-4723-94d6-0f7989732888",
   "metadata": {},
   "source": [
    "# Running SCellBOW on simulated prostate cancer dataset"
   ]
  },
  {
   "cell_type": "code",
   "execution_count": 1,
   "id": "aeba5a71-7c63-46cb-a2aa-2307d61090dc",
   "metadata": {},
   "outputs": [
    {
     "name": "stderr",
     "output_type": "stream",
     "text": [
      "[nltk_data] Downloading package punkt to /home/namratab/nltk_data...\n",
      "[nltk_data]   Package punkt is already up-to-date!\n"
     ]
    }
   ],
   "source": [
    "import SCellBOW as sb\n",
    "import scanpy as sc\n",
    "import matplotlib.pyplot as plt"
   ]
  },
  {
   "cell_type": "markdown",
   "id": "744e3c03-05e2-4c85-8569-c8b8a6bbbe18",
   "metadata": {},
   "source": [
    "# Import Dataset"
   ]
  },
  {
   "cell_type": "code",
   "execution_count": 2,
   "id": "108b4559-5ee3-41a3-a1d7-2f9e8e7dff76",
   "metadata": {},
   "outputs": [
    {
     "data": {
      "text/plain": [
       "AnnData object with n_obs × n_vars = 1334 × 2000"
      ]
     },
     "execution_count": 2,
     "metadata": {},
     "output_type": "execute_result"
    }
   ],
   "source": [
    "# read source data\n",
    "adata_source = sc.read(\"data/adata_source.h5ad\")\n",
    "adata_source"
   ]
  },
  {
   "cell_type": "code",
   "execution_count": 3,
   "id": "6eca4be3-1e03-4e6f-b099-1892af4c8e4f",
   "metadata": {},
   "outputs": [
    {
     "data": {
      "text/plain": [
       "AnnData object with n_obs × n_vars = 836 × 2000\n",
       "    obs: 'subtype'"
      ]
     },
     "execution_count": 3,
     "metadata": {},
     "output_type": "execute_result"
    }
   ],
   "source": [
    "# read target data\n",
    "adata_target = sc.read(\"data/adata_target.h5ad\")\n",
    "adata_target"
   ]
  },
  {
   "cell_type": "code",
   "execution_count": 4,
   "id": "44bc1ccb-4fe6-45cb-9d51-4e46d9a46734",
   "metadata": {},
   "outputs": [
    {
     "data": {
      "text/plain": [
       "AnnData object with n_obs × n_vars = 836 × 2000\n",
       "    obs: 'subtype'"
      ]
     },
     "execution_count": 4,
     "metadata": {},
     "output_type": "execute_result"
    }
   ],
   "source": [
    "# create a copy of target dataset for phenotype algebra\n",
    "adata_test = adata_target.copy()\n",
    "adata_test"
   ]
  },
  {
   "cell_type": "code",
   "execution_count": 5,
   "id": "9ee08374-27dd-4b6a-af14-84c856683717",
   "metadata": {},
   "outputs": [
    {
     "name": "stderr",
     "output_type": "stream",
     "text": [
      "/home/namratab/anaconda3/envs/namrata/lib/python3.8/site-packages/anndata/_core/anndata.py:1830: UserWarning: Variable names are not unique. To make them unique, call `.var_names_make_unique`.\n",
      "  utils.warn_names_duplicates(\"var\")\n"
     ]
    },
    {
     "data": {
      "text/plain": [
       "AnnData object with n_obs × n_vars = 81 × 17981\n",
       "    obs: 'subtype', 'time', 'status'\n",
       "    var: 'n_cells'"
      ]
     },
     "execution_count": 5,
     "metadata": {},
     "output_type": "execute_result"
    }
   ],
   "source": [
    "#load the survival data\n",
    "adata_train = sc.read(\"data/adata_train.h5ad\")\n",
    "adata_train"
   ]
  },
  {
   "cell_type": "markdown",
   "id": "4d3f236a-d580-429e-9735-e190461fc54b",
   "metadata": {},
   "source": [
    "# SCellBOW Pretrained model"
   ]
  },
  {
   "cell_type": "code",
   "execution_count": 6,
   "id": "00b17088-c685-4169-af36-4d4180a42ff3",
   "metadata": {},
   "outputs": [
    {
     "name": "stderr",
     "output_type": "stream",
     "text": [
      "/home/namratab/anaconda3/envs/namrata/lib/python3.8/site-packages/scanpy/preprocessing/_simple.py:843: UserWarning: Received a view of an AnnData. Making a copy.\n",
      "  view_to_actual(adata)\n"
     ]
    },
    {
     "data": {
      "text/plain": [
       "AnnData object with n_obs × n_vars = 1334 × 1000\n",
       "    obs: 'n_genes'\n",
       "    var: 'n_cells', 'highly_variable', 'means', 'dispersions', 'dispersions_norm', 'mean', 'std'\n",
       "    uns: 'log1p', 'hvg'"
      ]
     },
     "execution_count": 6,
     "metadata": {},
     "output_type": "execute_result"
    }
   ],
   "source": [
    "# preprocess source dataset for pretraining\n",
    "adata_source.var_names_make_unique()\n",
    "sc.pp.filter_cells(adata_source, min_genes=10)\n",
    "sc.pp.filter_genes(adata_source, min_cells=2)\n",
    "\n",
    "sc.pp.normalize_total(adata_source, target_sum=1e4)\n",
    "sc.pp.log1p(adata_source)\n",
    "    \n",
    "sc.pp.highly_variable_genes(adata_source, n_top_genes = 1000)\n",
    "adata_source = adata_source[:, adata_source.var.highly_variable]\n",
    "\n",
    "sc.pp.scale(adata_source, max_value=10)\n",
    "adata_source"
   ]
  },
  {
   "cell_type": "code",
   "execution_count": 7,
   "id": "62069688-2156-4f75-9138-a313325df833",
   "metadata": {},
   "outputs": [
    {
     "name": "stdout",
     "output_type": "stream",
     "text": [
      "[ 2022-12-30 11:05:15.683988 ] The path to save directory is ./pca/\n",
      "[ 2022-12-30 11:05:15.684017 ] Creating the source model.\n",
      "[ 2022-12-30 11:05:15.695078 ] Creating the corpus.\n"
     ]
    },
    {
     "data": {
      "application/vnd.jupyter.widget-view+json": {
       "model_id": "29ed445a008a4068887eab5713cb4721",
       "version_major": 2,
       "version_minor": 0
      },
      "text/plain": [
       "  0%|          | 0/1334 [00:00<?, ?it/s]"
      ]
     },
     "metadata": {},
     "output_type": "display_data"
    },
    {
     "name": "stdout",
     "output_type": "stream",
     "text": [
      "[ 2022-12-30 11:05:16.460787 ] Corpus created with size = 1334\n",
      "[ 2022-12-30 11:05:16.460830 ] Tagging the corpora.\n",
      "[ 2022-12-30 11:05:19.917635 ] All corpuses tagged with length 1334\n",
      "[ 2022-12-30 11:05:19.917697 ] Inititalize the SCellBOW source model.\n",
      "[ 2022-12-30 11:05:19.917706 ] INFO - SCellBOW: vector size = 300\n",
      "[ 2022-12-30 11:05:19.917716 ] INFO - SCellBOW: initial learning rate = 0.025\n",
      "[ 2022-12-30 11:05:19.917729 ] INFO - SCellBOW: min_alpha = 0.00025\n",
      "[ 2022-12-30 11:05:19.917739 ] INFO - SCellBOW: min_count = 1\n",
      "[ 2022-12-30 11:05:19.917748 ] INFO - SCellBOW: number of cpu = 1\n",
      "[ 2022-12-30 11:05:19.918177 ] Building vocabulary.\n",
      "[ 2022-12-30 11:05:20.078269 ] Vocabulary built.\n",
      "[ 2022-12-30 11:05:20.078291 ] Start training the neural network.\n",
      "[ 2022-12-30 11:05:59.156754 ] Training SCellBOW source model finished.\n",
      "[ 2022-12-30 11:05:59.162554 ] Model saved in directory  ./pca/\n",
      "[ 2022-12-30 11:05:59.179103 ] Source model created!\n"
     ]
    },
    {
     "data": {
      "text/plain": [
       "<SCellBOW.SCellBOW.SCellBOW_pretrain at 0x7f9ea96ab790>"
      ]
     },
     "execution_count": 7,
     "metadata": {},
     "output_type": "execute_result"
    }
   ],
   "source": [
    "sb.SCellBOW_pretrain(adata_source, save_dir= \"pca\", vec_size=300, n_worker=1, iter=20)"
   ]
  },
  {
   "cell_type": "markdown",
   "id": "a0860f97-7fc3-417b-a10a-edb1ed5b97ca",
   "metadata": {},
   "source": [
    "# SCellBOW Clustering"
   ]
  },
  {
   "cell_type": "code",
   "execution_count": 8,
   "id": "6b5fd647-52ea-4eba-bd78-2f94b3b0025d",
   "metadata": {},
   "outputs": [
    {
     "name": "stderr",
     "output_type": "stream",
     "text": [
      "/home/namratab/anaconda3/envs/namrata/lib/python3.8/site-packages/scanpy/preprocessing/_simple.py:843: UserWarning: Received a view of an AnnData. Making a copy.\n",
      "  view_to_actual(adata)\n"
     ]
    },
    {
     "data": {
      "text/plain": [
       "AnnData object with n_obs × n_vars = 836 × 1000\n",
       "    obs: 'subtype', 'n_genes'\n",
       "    var: 'n_cells', 'highly_variable', 'means', 'dispersions', 'dispersions_norm', 'mean', 'std'\n",
       "    uns: 'log1p', 'hvg'"
      ]
     },
     "execution_count": 8,
     "metadata": {},
     "output_type": "execute_result"
    }
   ],
   "source": [
    "# preprocess target dataset for clustering \n",
    "adata_target.var_names_make_unique()\n",
    "sc.pp.filter_cells(adata_target, min_genes=10)\n",
    "sc.pp.filter_genes(adata_target, min_cells=2)\n",
    "\n",
    "sc.pp.normalize_total(adata_target, target_sum=1e4)\n",
    "sc.pp.log1p(adata_target)\n",
    "    \n",
    "sc.pp.highly_variable_genes(adata_target, n_top_genes = 1000)\n",
    "adata_target.raw = adata_target\n",
    "adata_target = adata_target[:, adata_target.var.highly_variable]\n",
    "\n",
    "sc.pp.scale(adata_target, max_value=10)\n",
    "\n",
    "adata_target"
   ]
  },
  {
   "cell_type": "code",
   "execution_count": null,
   "id": "854b575b-dc5b-4284-997a-cfe840f4a4f1",
   "metadata": {},
   "outputs": [
    {
     "name": "stdout",
     "output_type": "stream",
     "text": [
      "[ 2022-12-30 11:05:59.244904 ] The path to save directory is ./pca/\n",
      "[ 2022-12-30 11:05:59.245006 ] Begin SCellBOW: transfer learning.\n",
      "MinMaxScaler(feature_range=(1, 10))\n",
      "[ 2022-12-30 11:05:59.257085 ] Creating the corpus.\n"
     ]
    },
    {
     "data": {
      "application/vnd.jupyter.widget-view+json": {
       "model_id": "5654325d0db945db82a82ff933fcb4a5",
       "version_major": 2,
       "version_minor": 0
      },
      "text/plain": [
       "  0%|          | 0/836 [00:00<?, ?it/s]"
      ]
     },
     "metadata": {},
     "output_type": "display_data"
    },
    {
     "name": "stdout",
     "output_type": "stream",
     "text": [
      "[ 2022-12-30 11:05:59.729087 ] Tagging the corpora for transfer learning.\n",
      "[ 2022-12-30 11:06:02.007222 ] All corpuses tagged with length = 836\n",
      "[ 2022-12-30 11:06:02.007295 ] Updating the vocabulary.\n",
      "[ 2022-12-30 11:06:02.127024 ] Vocabulary updated.\n",
      "[ 2022-12-30 11:06:02.127047 ] Start transfer learning on the neural network.\n",
      "[ 2022-12-30 11:06:53.060211 ] Weights of the neural network calibrated.\n",
      "[ 2022-12-30 11:06:53.060281 ] Start infering the vectors for target dataset.\n"
     ]
    },
    {
     "data": {
      "application/vnd.jupyter.widget-view+json": {
       "model_id": "1abfc5b438014a44a1a9fa5c635a817a",
       "version_major": 2,
       "version_minor": 0
      },
      "text/plain": [
       "  0%|          | 0/836 [00:00<?, ?it/s]"
      ]
     },
     "metadata": {},
     "output_type": "display_data"
    }
   ],
   "source": [
    "# invoke SCellBOW cluster\n",
    "adata_output = sb.SCellBOW_cluster(adata_target,'pca').run()"
   ]
  },
  {
   "cell_type": "code",
   "execution_count": null,
   "id": "1c0c6716-c256-48c1-9fb3-92cd2810324b",
   "metadata": {},
   "outputs": [],
   "source": [
    "adata_output"
   ]
  },
  {
   "cell_type": "code",
   "execution_count": null,
   "id": "f09ebec7-af3d-4f97-b662-0cc148c4d8e0",
   "metadata": {},
   "outputs": [],
   "source": [
    "#visualisation of leiden clusters\n",
    "resolution = 1.0\n",
    "with plt.rc_context({'figure.figsize': (5, 5)}):\n",
    "    sc.pl.umap(adata_output, \n",
    "               color='clusters_'+str(resolution), \n",
    "               add_outline=True, \n",
    "               legend_fontsize=14, \n",
    "               legend_fontoutline=2,\n",
    "               title='UMAP visualisation', \n",
    "               size = 50,\n",
    "               palette=plt.rcParams[\"axes.prop_cycle\"],\n",
    "              )"
   ]
  },
  {
   "cell_type": "markdown",
   "id": "35661278-bb8a-4ad4-a4ae-d6d9ef630a83",
   "metadata": {},
   "source": [
    "# SCellBOW Phenotype algebra"
   ]
  },
  {
   "cell_type": "code",
   "execution_count": null,
   "id": "b364766c-8850-4267-89c6-5099d96498c2",
   "metadata": {},
   "outputs": [],
   "source": [
    "#invoke phenotype algebra\n",
    "adata_test.obs =  adata_output.obs\n",
    "median_score, predicted_score=sb.SCellBOW_algebra(adata_test,adata_train,\"pca\",\n",
    "                    type='clusters_1.0',\n",
    "                    bootstrap_samples=10,n_top_features=1000).run()"
   ]
  },
  {
   "cell_type": "code",
   "execution_count": null,
   "id": "a4c4d04d-fe6f-48c2-af87-26fc7db60d62",
   "metadata": {},
   "outputs": [],
   "source": [
    "predicted_score"
   ]
  },
  {
   "cell_type": "code",
   "execution_count": null,
   "id": "3b815e26-cf0c-449f-bf6d-7ff8a5af3553",
   "metadata": {},
   "outputs": [],
   "source": [
    "median_score"
   ]
  },
  {
   "cell_type": "code",
   "execution_count": null,
   "id": "be817744-d567-4b46-88f1-839e6efa4ddb",
   "metadata": {},
   "outputs": [],
   "source": [
    "median_score.sort_values(ascending=True, inplace=True)\n",
    "predicted_score = predicted_score[median_score.index]\n",
    "plt.figure(figsize=(4,4))\n",
    "predicted_score.boxplot(patch_artist=True, notch=True)\n",
    "plt.xticks(rotation=90, size=10)\n",
    "plt.show()"
   ]
  },
  {
   "cell_type": "code",
   "execution_count": null,
   "id": "59a30eba-45c2-47ad-bde6-2efc68c37bfe",
   "metadata": {},
   "outputs": [],
   "source": []
  }
 ],
 "metadata": {
  "kernelspec": {
   "display_name": "Python 3 (ipykernel)",
   "language": "python",
   "name": "python3"
  },
  "language_info": {
   "codemirror_mode": {
    "name": "ipython",
    "version": 3
   },
   "file_extension": ".py",
   "mimetype": "text/x-python",
   "name": "python",
   "nbconvert_exporter": "python",
   "pygments_lexer": "ipython3",
   "version": "3.8.13"
  }
 },
 "nbformat": 4,
 "nbformat_minor": 5
}
