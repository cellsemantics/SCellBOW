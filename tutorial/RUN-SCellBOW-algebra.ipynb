{
 "cells": [
  {
   "cell_type": "markdown",
   "id": "a5670408-2795-4723-94d6-0f7989732888",
   "metadata": {},
   "source": [
    "# Running SCellBOW phenotype algebra on a simulated prostate cancer dataset\n",
    "> ### There are three molecular subtype - ARAH, ARAL, and NE"
   ]
  },
  {
   "cell_type": "code",
   "execution_count": 1,
   "id": "aeba5a71-7c63-46cb-a2aa-2307d61090dc",
   "metadata": {},
   "outputs": [
    {
     "name": "stderr",
     "output_type": "stream",
     "text": [
      "[nltk_data] Downloading package punkt to /home/namratab/nltk_data...\n",
      "[nltk_data]   Package punkt is already up-to-date!\n"
     ]
    }
   ],
   "source": [
    "import SCellBOW as sb\n",
    "import scanpy as sc\n",
    "import matplotlib.pyplot as plt"
   ]
  },
  {
   "cell_type": "markdown",
   "id": "4d3f236a-d580-429e-9735-e190461fc54b",
   "metadata": {},
   "source": [
    "# SCellBOW Pretrained model"
   ]
  },
  {
   "cell_type": "code",
   "execution_count": 2,
   "id": "108b4559-5ee3-41a3-a1d7-2f9e8e7dff76",
   "metadata": {},
   "outputs": [
    {
     "data": {
      "text/plain": [
       "AnnData object with n_obs × n_vars = 1334 × 2000"
      ]
     },
     "execution_count": 2,
     "metadata": {},
     "output_type": "execute_result"
    }
   ],
   "source": [
    "adata_source = sc.read(\"data/adata_source.h5ad\")\n",
    "adata_source"
   ]
  },
  {
   "cell_type": "code",
   "execution_count": 3,
   "id": "59e2186c-9a77-41b8-b677-ca1fd6080b7c",
   "metadata": {},
   "outputs": [
    {
     "name": "stderr",
     "output_type": "stream",
     "text": [
      "/home/namratab/anaconda3/envs/namrata/lib/python3.8/site-packages/anndata/_core/anndata.py:1830: UserWarning: Variable names are not unique. To make them unique, call `.var_names_make_unique`.\n",
      "  utils.warn_names_duplicates(\"var\")\n"
     ]
    },
    {
     "data": {
      "text/plain": [
       "AnnData object with n_obs × n_vars = 81 × 17981\n",
       "    obs: 'subtype', 'time', 'status'\n",
       "    var: 'n_cells'"
      ]
     },
     "execution_count": 3,
     "metadata": {},
     "output_type": "execute_result"
    }
   ],
   "source": [
    "adata_train = sc.read(\"data/adata_train.h5ad\")\n",
    "adata_train"
   ]
  },
  {
   "cell_type": "code",
   "execution_count": 4,
   "id": "6eca4be3-1e03-4e6f-b099-1892af4c8e4f",
   "metadata": {},
   "outputs": [
    {
     "data": {
      "text/plain": [
       "AnnData object with n_obs × n_vars = 836 × 2000\n",
       "    obs: 'subtype'"
      ]
     },
     "execution_count": 4,
     "metadata": {},
     "output_type": "execute_result"
    }
   ],
   "source": [
    "adata_target = sc.read(\"data/adata_target.h5ad\")\n",
    "adata_target"
   ]
  },
  {
   "cell_type": "code",
   "execution_count": 5,
   "id": "00b17088-c685-4169-af36-4d4180a42ff3",
   "metadata": {},
   "outputs": [
    {
     "name": "stderr",
     "output_type": "stream",
     "text": [
      "/home/namratab/anaconda3/envs/namrata/lib/python3.8/site-packages/scanpy/preprocessing/_simple.py:843: UserWarning: Received a view of an AnnData. Making a copy.\n",
      "  view_to_actual(adata)\n"
     ]
    },
    {
     "data": {
      "text/plain": [
       "AnnData object with n_obs × n_vars = 1334 × 1000\n",
       "    obs: 'n_genes'\n",
       "    var: 'n_cells', 'highly_variable', 'means', 'dispersions', 'dispersions_norm', 'mean', 'std'\n",
       "    uns: 'log1p', 'hvg'"
      ]
     },
     "execution_count": 5,
     "metadata": {},
     "output_type": "execute_result"
    }
   ],
   "source": [
    "# preprocessing source data\n",
    "adata_source.var_names_make_unique()\n",
    "sc.pp.filter_cells(adata_source, min_genes=10)\n",
    "sc.pp.filter_genes(adata_source, min_cells=2)\n",
    "\n",
    "sc.pp.normalize_total(adata_source, target_sum=1e4)\n",
    "sc.pp.log1p(adata_source)\n",
    "    \n",
    "sc.pp.highly_variable_genes(adata_source, n_top_genes = 1000)\n",
    "adata_source = adata_source[:, adata_source.var.highly_variable]\n",
    "\n",
    "sc.pp.scale(adata_source, max_value=10)\n",
    "adata_source"
   ]
  },
  {
   "cell_type": "code",
   "execution_count": 6,
   "id": "62069688-2156-4f75-9138-a313325df833",
   "metadata": {},
   "outputs": [
    {
     "name": "stdout",
     "output_type": "stream",
     "text": [
      "[ 2022-12-30 11:12:51.743037 ] The path to save directory is ./pca/\n",
      "[ 2022-12-30 11:12:51.743071 ] Creating the source model.\n",
      "[ 2022-12-30 11:12:51.753967 ] Creating the corpus.\n"
     ]
    },
    {
     "data": {
      "application/vnd.jupyter.widget-view+json": {
       "model_id": "2a548de7908f4bc09b68f679de1e531a",
       "version_major": 2,
       "version_minor": 0
      },
      "text/plain": [
       "  0%|          | 0/1334 [00:00<?, ?it/s]"
      ]
     },
     "metadata": {},
     "output_type": "display_data"
    },
    {
     "name": "stdout",
     "output_type": "stream",
     "text": [
      "[ 2022-12-30 11:12:52.537066 ] Corpus created with size = 1334\n",
      "[ 2022-12-30 11:12:52.537092 ] Tagging the corpora.\n",
      "[ 2022-12-30 11:12:55.919765 ] All corpuses tagged with length 1334\n",
      "[ 2022-12-30 11:12:55.919830 ] Inititalize the SCellBOW source model.\n",
      "[ 2022-12-30 11:12:55.919840 ] INFO - SCellBOW: vector size = 300\n",
      "[ 2022-12-30 11:12:55.919849 ] INFO - SCellBOW: initial learning rate = 0.025\n",
      "[ 2022-12-30 11:12:55.919862 ] INFO - SCellBOW: min_alpha = 0.00025\n",
      "[ 2022-12-30 11:12:55.919872 ] INFO - SCellBOW: min_count = 1\n",
      "[ 2022-12-30 11:12:55.919881 ] INFO - SCellBOW: number of cpu = 1\n",
      "[ 2022-12-30 11:12:55.920217 ] Building vocabulary.\n",
      "[ 2022-12-30 11:12:56.080118 ] Vocabulary built.\n",
      "[ 2022-12-30 11:12:56.080141 ] Start training the neural network.\n",
      "[ 2022-12-30 11:13:34.161856 ] Training SCellBOW source model finished.\n",
      "[ 2022-12-30 11:13:34.168458 ] Model saved in directory  ./pca/\n",
      "[ 2022-12-30 11:13:34.185962 ] Source model created!\n"
     ]
    },
    {
     "data": {
      "text/plain": [
       "<SCellBOW.SCellBOW.SCellBOW_pretrain at 0x7fdf99960940>"
      ]
     },
     "execution_count": 6,
     "metadata": {},
     "output_type": "execute_result"
    }
   ],
   "source": [
    "#invoke SCellBOW pretraining\n",
    "sb.SCellBOW_pretrain(adata_source, save_dir= \"pca\", vec_size=300, n_worker=1, iter=20)"
   ]
  },
  {
   "cell_type": "markdown",
   "id": "35661278-bb8a-4ad4-a4ae-d6d9ef630a83",
   "metadata": {},
   "source": [
    "# SCellBOW Phenotype algebra"
   ]
  },
  {
   "cell_type": "code",
   "execution_count": 7,
   "id": "2f0ffddc-d254-463e-b5e1-5c4712aa5f4f",
   "metadata": {},
   "outputs": [
    {
     "name": "stdout",
     "output_type": "stream",
     "text": [
      "[ 2022-12-30 11:13:34.199583 ] The path to save directory is pca/\n",
      "[ 2022-12-30 11:13:34.199696 ] Begin SCellBOW: phenotype algebra.\n",
      "[ 2022-12-30 11:13:34.362316 ] Begin creating pseudobulk on subtype\n"
     ]
    },
    {
     "name": "stderr",
     "output_type": "stream",
     "text": [
      "/home/namratab/anaconda3/envs/namrata/lib/python3.8/site-packages/SCellBOW/SCellBOW.py:308: PerformanceWarning: DataFrame is highly fragmented.  This is usually the result of calling `frame.insert` many times, which has poor performance.  Consider joining all columns at once using pd.concat(axis=1) instead. To get a de-fragmented frame, use `newframe = frame.copy()`\n",
      "  dataframe['type'] = y\n"
     ]
    },
    {
     "name": "stdout",
     "output_type": "stream",
     "text": [
      "[ 2022-12-30 11:13:34.564571 ] Shape of pseudobulk by individual type: (3, 1999)\n",
      "[ 2022-12-30 11:13:34.656679 ] Adding combined vector for algebra: ['ARAH', 'ARAL']\n",
      "[2022-12-30 11:13:34.700492]Common gene between survival and target data=675\n",
      "[ 2022-12-30 11:13:34.720032 ] Begin transfer learning.\n",
      "[ 2022-12-30 11:13:34.728370 ] The path to save directory is ./pca//\n",
      "[ 2022-12-30 11:13:34.728385 ] Begin SCellBOW: transfer learning.\n",
      "MinMaxScaler(feature_range=(1, 10))\n",
      "[ 2022-12-30 11:13:34.734667 ] Creating the corpus.\n"
     ]
    },
    {
     "name": "stderr",
     "output_type": "stream",
     "text": [
      "/home/namratab/anaconda3/envs/namrata/lib/python3.8/site-packages/anndata/_core/anndata.py:1785: FutureWarning: X.dtype being converted to np.float32 from float64. In the next version of anndata (0.9) conversion will not be automatic. Pass dtype explicitly to avoid this warning. Pass `AnnData(X, dtype=X.dtype, ...)` to get the future behavour.\n",
      "  [AnnData(sparse.csr_matrix(a.shape), obs=a.obs) for a in all_adatas],\n",
      "/home/namratab/anaconda3/envs/namrata/lib/python3.8/site-packages/scanpy/preprocessing/_simple.py:843: UserWarning: Received a view of an AnnData. Making a copy.\n",
      "  view_to_actual(adata)\n"
     ]
    },
    {
     "data": {
      "application/vnd.jupyter.widget-view+json": {
       "model_id": "43181ba137774d0fbd1c81619b0fab86",
       "version_major": 2,
       "version_minor": 0
      },
      "text/plain": [
       "  0%|          | 0/86 [00:00<?, ?it/s]"
      ]
     },
     "metadata": {},
     "output_type": "display_data"
    },
    {
     "name": "stdout",
     "output_type": "stream",
     "text": [
      "[ 2022-12-30 11:13:34.838856 ] Tagging the corpora for transfer learning.\n",
      "[ 2022-12-30 11:13:35.303428 ] All corpuses tagged with length = 86\n",
      "[ 2022-12-30 11:13:35.303482 ] Updating the vocabulary.\n",
      "[ 2022-12-30 11:13:35.341712 ] Vocabulary updated.\n",
      "[ 2022-12-30 11:13:35.341733 ] Start transfer learning on the neural network.\n",
      "[ 2022-12-30 11:13:47.824727 ] Weights of the neural network calibrated.\n",
      "[ 2022-12-30 11:13:47.824806 ] Start infering the vectors for target dataset.\n"
     ]
    },
    {
     "data": {
      "application/vnd.jupyter.widget-view+json": {
       "model_id": "bdbf033475ec47a18432cfdec76f07a9",
       "version_major": 2,
       "version_minor": 0
      },
      "text/plain": [
       "  0%|          | 0/86 [00:00<?, ?it/s]"
      ]
     },
     "metadata": {},
     "output_type": "display_data"
    },
    {
     "name": "stdout",
     "output_type": "stream",
     "text": [
      "[ 2022-12-30 11:13:57.282676 ] Embedding created with shape : (86, 300)\n",
      "[ 2022-12-30 11:13:57.282726 ] Start leiden clustering at resolution: 1.0\n"
     ]
    },
    {
     "name": "stderr",
     "output_type": "stream",
     "text": [
      "2022-12-30 11:13:59.470996: W tensorflow/stream_executor/platform/default/dso_loader.cc:64] Could not load dynamic library 'libcudart.so.11.0'; dlerror: libcudart.so.11.0: cannot open shared object file: No such file or directory\n",
      "2022-12-30 11:13:59.471022: I tensorflow/stream_executor/cuda/cudart_stub.cc:29] Ignore above cudart dlerror if you do not have a GPU set up on your machine.\n"
     ]
    },
    {
     "name": "stdout",
     "output_type": "stream",
     "text": [
      "[ 2022-12-30 11:14:02.150392 ] SCellBOW clustering has been successful!\n",
      "[ 2022-12-30 11:14:02.150459 ] Finished transfer learning.\n",
      "[ 2022-12-30 11:14:02.153215 ] Start training the phenotype algebra model.\n",
      "[ 2022-12-30 11:14:02.153230 ] INFO - SCellBOW: Samples in survival data shape = 81\n",
      "[ 2022-12-30 11:14:02.153242 ] INFO - SCellBOW: Pseudobulk samples in target data = 5\n",
      "[ 2022-12-30 11:14:02.153252 ] INFO - SCellBOW: Descriptor class = subtype\n",
      "[ 2022-12-30 11:14:02.153262 ] INFO - SCellBOW: Train:test split = 80:20\n"
     ]
    },
    {
     "data": {
      "application/vnd.jupyter.widget-view+json": {
       "model_id": "df43b77b6b614c48b960b6798a1ddb5e",
       "version_major": 2,
       "version_minor": 0
      },
      "text/plain": [
       "  0%|          | 0/10 [00:00<?, ?it/s]"
      ]
     },
     "metadata": {},
     "output_type": "display_data"
    },
    {
     "name": "stdout",
     "output_type": "stream",
     "text": [
      "[ 2022-12-30 11:14:02.164216 ] Epoch 0/10\n",
      "[ 2022-12-30 11:14:03.911032 ] Epoch 1/10\n",
      "[ 2022-12-30 11:14:05.675276 ] Epoch 2/10\n",
      "[ 2022-12-30 11:14:07.431954 ] Epoch 3/10\n",
      "[ 2022-12-30 11:14:09.144342 ] Epoch 4/10\n",
      "[ 2022-12-30 11:14:10.966194 ] Epoch 5/10\n",
      "[ 2022-12-30 11:14:12.751947 ] Epoch 6/10\n",
      "[ 2022-12-30 11:14:14.540705 ] Epoch 7/10\n",
      "[ 2022-12-30 11:14:16.360852 ] Epoch 8/10\n",
      "[ 2022-12-30 11:14:18.089590 ] Epoch 9/10\n",
      "[ 2022-12-30 11:14:19.878425 ] Risk score prediction complete.\n",
      "[ 2022-12-30 11:14:19.878464 ] Calculate median risk score.\n",
      "[ 2022-12-30 11:14:19.878809 ] SCellBOW phenotype algebra is complete!\n"
     ]
    }
   ],
   "source": [
    "# invoke SCellBOW phenotype algebra on \"subtype\"\n",
    "median_score, predicted_score=sb.SCellBOW_algebra(adata_target,adata_train,\"pca\", type='subtype',\n",
    "                    algebra = ['ARAH','ARAL'],\n",
    "                    bootstrap_samples=10,n_top_features=1000).run()"
   ]
  },
  {
   "cell_type": "code",
   "execution_count": 8,
   "id": "a4c4d04d-fe6f-48c2-af87-26fc7db60d62",
   "metadata": {},
   "outputs": [
    {
     "data": {
      "text/html": [
       "<div>\n",
       "<style scoped>\n",
       "    .dataframe tbody tr th:only-of-type {\n",
       "        vertical-align: middle;\n",
       "    }\n",
       "\n",
       "    .dataframe tbody tr th {\n",
       "        vertical-align: top;\n",
       "    }\n",
       "\n",
       "    .dataframe thead th {\n",
       "        text-align: right;\n",
       "    }\n",
       "</style>\n",
       "<table border=\"1\" class=\"dataframe\">\n",
       "  <thead>\n",
       "    <tr style=\"text-align: right;\">\n",
       "      <th></th>\n",
       "      <th>pseudobulk</th>\n",
       "      <th>pseudobulk - (ARAH)</th>\n",
       "      <th>pseudobulk - (ARAL)</th>\n",
       "      <th>pseudobulk - (NE)</th>\n",
       "      <th>pseudobulk - (ARAH+ARAL)</th>\n",
       "    </tr>\n",
       "  </thead>\n",
       "  <tbody>\n",
       "    <tr>\n",
       "      <th>0</th>\n",
       "      <td>32.917167</td>\n",
       "      <td>29.533000</td>\n",
       "      <td>25.468667</td>\n",
       "      <td>29.214500</td>\n",
       "      <td>26.357500</td>\n",
       "    </tr>\n",
       "    <tr>\n",
       "      <th>1</th>\n",
       "      <td>36.462500</td>\n",
       "      <td>34.691667</td>\n",
       "      <td>29.975333</td>\n",
       "      <td>29.671667</td>\n",
       "      <td>31.779667</td>\n",
       "    </tr>\n",
       "    <tr>\n",
       "      <th>2</th>\n",
       "      <td>27.605000</td>\n",
       "      <td>31.277833</td>\n",
       "      <td>25.365167</td>\n",
       "      <td>28.073500</td>\n",
       "      <td>26.917333</td>\n",
       "    </tr>\n",
       "    <tr>\n",
       "      <th>3</th>\n",
       "      <td>32.883833</td>\n",
       "      <td>27.141500</td>\n",
       "      <td>22.898333</td>\n",
       "      <td>30.294833</td>\n",
       "      <td>26.003833</td>\n",
       "    </tr>\n",
       "    <tr>\n",
       "      <th>4</th>\n",
       "      <td>35.808333</td>\n",
       "      <td>30.867500</td>\n",
       "      <td>29.227333</td>\n",
       "      <td>34.316667</td>\n",
       "      <td>31.811000</td>\n",
       "    </tr>\n",
       "    <tr>\n",
       "      <th>5</th>\n",
       "      <td>36.994167</td>\n",
       "      <td>30.251167</td>\n",
       "      <td>27.097000</td>\n",
       "      <td>28.197000</td>\n",
       "      <td>28.017667</td>\n",
       "    </tr>\n",
       "    <tr>\n",
       "      <th>6</th>\n",
       "      <td>30.613333</td>\n",
       "      <td>27.077833</td>\n",
       "      <td>23.767000</td>\n",
       "      <td>28.883833</td>\n",
       "      <td>26.660333</td>\n",
       "    </tr>\n",
       "    <tr>\n",
       "      <th>7</th>\n",
       "      <td>27.780333</td>\n",
       "      <td>26.322000</td>\n",
       "      <td>22.998500</td>\n",
       "      <td>24.237000</td>\n",
       "      <td>26.088667</td>\n",
       "    </tr>\n",
       "    <tr>\n",
       "      <th>8</th>\n",
       "      <td>27.633833</td>\n",
       "      <td>21.405833</td>\n",
       "      <td>20.528333</td>\n",
       "      <td>22.997333</td>\n",
       "      <td>22.481500</td>\n",
       "    </tr>\n",
       "    <tr>\n",
       "      <th>9</th>\n",
       "      <td>33.204500</td>\n",
       "      <td>31.128000</td>\n",
       "      <td>25.639000</td>\n",
       "      <td>33.166167</td>\n",
       "      <td>28.217667</td>\n",
       "    </tr>\n",
       "  </tbody>\n",
       "</table>\n",
       "</div>"
      ],
      "text/plain": [
       "   pseudobulk  pseudobulk - (ARAH)  pseudobulk - (ARAL)  pseudobulk - (NE)  \\\n",
       "0   32.917167            29.533000            25.468667          29.214500   \n",
       "1   36.462500            34.691667            29.975333          29.671667   \n",
       "2   27.605000            31.277833            25.365167          28.073500   \n",
       "3   32.883833            27.141500            22.898333          30.294833   \n",
       "4   35.808333            30.867500            29.227333          34.316667   \n",
       "5   36.994167            30.251167            27.097000          28.197000   \n",
       "6   30.613333            27.077833            23.767000          28.883833   \n",
       "7   27.780333            26.322000            22.998500          24.237000   \n",
       "8   27.633833            21.405833            20.528333          22.997333   \n",
       "9   33.204500            31.128000            25.639000          33.166167   \n",
       "\n",
       "   pseudobulk - (ARAH+ARAL)  \n",
       "0                 26.357500  \n",
       "1                 31.779667  \n",
       "2                 26.917333  \n",
       "3                 26.003833  \n",
       "4                 31.811000  \n",
       "5                 28.017667  \n",
       "6                 26.660333  \n",
       "7                 26.088667  \n",
       "8                 22.481500  \n",
       "9                 28.217667  "
      ]
     },
     "execution_count": 8,
     "metadata": {},
     "output_type": "execute_result"
    }
   ],
   "source": [
    "predicted_score"
   ]
  },
  {
   "cell_type": "code",
   "execution_count": 9,
   "id": "3b815e26-cf0c-449f-bf6d-7ff8a5af3553",
   "metadata": {},
   "outputs": [
    {
     "data": {
      "text/plain": [
       "pseudobulk                  32.900500\n",
       "pseudobulk - (ARAH)         29.892083\n",
       "pseudobulk - (ARAL)         25.416917\n",
       "pseudobulk - (NE)           29.049167\n",
       "pseudobulk - (ARAH+ARAL)    26.788833\n",
       "dtype: float64"
      ]
     },
     "execution_count": 9,
     "metadata": {},
     "output_type": "execute_result"
    }
   ],
   "source": [
    "median_score"
   ]
  },
  {
   "cell_type": "code",
   "execution_count": 10,
   "id": "be817744-d567-4b46-88f1-839e6efa4ddb",
   "metadata": {},
   "outputs": [
    {
     "data": {
      "image/png": "[encoded data removed]",
      "text/plain": [
       "<Figure size 288x288 with 1 Axes>"
      ]
     },
     "metadata": {
      "needs_background": "light"
     },
     "output_type": "display_data"
    }
   ],
   "source": [
    "#visualisation\n",
    "median_score.sort_values(ascending=True, inplace=True)\n",
    "predicted_score = predicted_score[median_score.index]\n",
    "plt.figure(figsize=(4,4))\n",
    "predicted_score.boxplot(patch_artist=True, notch=True)\n",
    "plt.xticks(rotation=90, size=10)\n",
    "plt.show()"
   ]
  },
  {
   "cell_type": "code",
   "execution_count": null,
   "id": "59a30eba-45c2-47ad-bde6-2efc68c37bfe",
   "metadata": {},
   "outputs": [],
   "source": []
  }
 ],
 "metadata": {
  "kernelspec": {
   "display_name": "Python 3 (ipykernel)",
   "language": "python",
   "name": "python3"
  },
  "language_info": {
   "codemirror_mode": {
    "name": "ipython",
    "version": 3
   },
   "file_extension": ".py",
   "mimetype": "text/x-python",
   "name": "python",
   "nbconvert_exporter": "python",
   "pygments_lexer": "ipython3",
   "version": "3.8.13"
  }
 },
 "nbformat": 4,
 "nbformat_minor": 5
}
